{
 "cells": [
  {
   "cell_type": "code",
   "execution_count": 92,
   "metadata": {},
   "outputs": [],
   "source": [
    "import requests\n",
    "from bs4 import BeautifulSoup\n",
    "import smtplib\n",
    "import time"
   ]
  },
  {
   "cell_type": "code",
   "execution_count": 63,
   "metadata": {},
   "outputs": [],
   "source": [
    "URL = 'https://www.amazon.in/Sony-Mark-Body-ILCE-7RM3-Camera/dp/B076TGDHPT/ref=sr_1_4?keywords=sony+a7&qid=1575362987&sr=8-4'"
   ]
  },
  {
   "cell_type": "code",
   "execution_count": 64,
   "metadata": {},
   "outputs": [],
   "source": [
    "headers = {\"User-Agent\":'Mozilla/5.0 (Windows NT 10.0; Win64; x64) AppleWebKit/537.36 (KHTML, like Gecko) Chrome/78.0.3904.108 Safari/537.36'}\n"
   ]
  },
  {
   "cell_type": "code",
   "execution_count": 88,
   "metadata": {},
   "outputs": [],
   "source": [
    "def check_price():\n",
    "    page = requests.get(URL, headers = headers)\n",
    "    soup = BeautifulSoup(page.content, 'html.parser')\n",
    "    title = soup.find(id = 'productTitle').get_text().strip()\n",
    "\n",
    "    price = soup.find(id = 'priceblock_ourprice').get_text()\n",
    "    converted_price = float(''.join(price[2:].split(\",\")))\n",
    "    print(title)\n",
    "    print(converted_price)\n",
    "    if(converted_price<197000):\n",
    "        send_mail()"
   ]
  },
  {
   "cell_type": "code",
   "execution_count": 89,
   "metadata": {},
   "outputs": [],
   "source": [
    "def send_mail():\n",
    "    server = smtplib.SMTP('smtp.gmail.com',587)\n",
    "    server.ehlo()\n",
    "    server.starttls()\n",
    "    server.ehlo()\n",
    "    server.login('adityadanit@gmail.com','voccexbybyjbldjk')\n",
    "    subject= 'Price fell down!'\n",
    "    body = 'https://www.amazon.in/Sony-Mark-Body-ILCE-7RM3-Camera/dp/B076TGDHPT/ref=sr_1_4?keywords=sony+a7&qid=1575362987&sr=8-4'\n",
    "    msg = f\"Subject:{subject}\\n\\n{body}\"\n",
    "    server.sendmail('adityadanit@gmail.com','trilokicse@gmail.com',msg)\n",
    "    print(\"Email has been sent\")\n",
    "    server.quit()"
   ]
  },
  {
   "cell_type": "code",
   "execution_count": null,
   "metadata": {},
   "outputs": [
    {
     "name": "stdout",
     "output_type": "stream",
     "text": [
      "Sony A7R Mark III Body Only (ILCE-7RM3/BC) Camera\n",
      "197989.0\n",
      "Sony A7R Mark III Body Only (ILCE-7RM3/BC) Camera\n",
      "197989.0\n",
      "Sony A7R Mark III Body Only (ILCE-7RM3/BC) Camera\n",
      "197989.0\n",
      "Sony A7R Mark III Body Only (ILCE-7RM3/BC) Camera\n",
      "197989.0\n"
     ]
    }
   ],
   "source": [
    "while(True):\n",
    "    check_price()\n",
    "    time.sleep(60)"
   ]
  },
  {
   "cell_type": "code",
   "execution_count": null,
   "metadata": {},
   "outputs": [],
   "source": []
  }
 ],
 "metadata": {
  "kernelspec": {
   "display_name": "Python 3",
   "language": "python",
   "name": "python3"
  }
 },
 "nbformat": 4,
 "nbformat_minor": 2
}
