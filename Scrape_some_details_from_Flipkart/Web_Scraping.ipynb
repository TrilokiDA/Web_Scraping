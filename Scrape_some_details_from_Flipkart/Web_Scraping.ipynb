{
 "cells": [
  {
   "cell_type": "markdown",
   "metadata": {
    "collapsed": true
   },
   "source": [
    "# Scrape_some_details_from_Flipkart"
   ]
  },
  {
   "cell_type": "code",
   "execution_count": 11,
   "metadata": {
    "collapsed": true
   },
   "outputs": [],
   "source": [
    "from bs4 import BeautifulSoup as soup\n",
    "from urllib.request import urlopen as uReq"
   ]
  },
  {
   "cell_type": "code",
   "execution_count": 2,
   "metadata": {
    "collapsed": true
   },
   "outputs": [],
   "source": [
    "my_url = \"https://www.flipkart.com/search?q=iphone&otracker=start&as-show=on&as=off\""
   ]
  },
  {
   "cell_type": "code",
   "execution_count": 3,
   "metadata": {
    "collapsed": true
   },
   "outputs": [],
   "source": [
    "uClient = uReq(my_url)\n",
    "page_html = uClient.read()\n",
    "uClient.close()\n",
    "page_soup = soup(page_html,\"html.parser\")"
   ]
  },
  {
   "cell_type": "code",
   "execution_count": 4,
   "metadata": {},
   "outputs": [
    {
     "name": "stdout",
     "output_type": "stream",
     "text": [
      "24\n"
     ]
    }
   ],
   "source": [
    "containers = page_soup.findAll(\"div\", {\"class\":\"_3O0U0u\"})\n",
    "print(len(containers))"
   ]
  },
  {
   "cell_type": "code",
   "execution_count": 5,
   "metadata": {
    "collapsed": true
   },
   "outputs": [],
   "source": [
    "#print(soup.prettify(containers[0]))"
   ]
  },
  {
   "cell_type": "code",
   "execution_count": 6,
   "metadata": {},
   "outputs": [
    {
     "name": "stdout",
     "output_type": "stream",
     "text": [
      "Apple iPhone SE (Space Grey, 32 GB)\n"
     ]
    }
   ],
   "source": [
    "container = containers[0]\n",
    "print(container.div.img[\"alt\"])"
   ]
  },
  {
   "cell_type": "code",
   "execution_count": 7,
   "metadata": {},
   "outputs": [
    {
     "name": "stdout",
     "output_type": "stream",
     "text": [
      "₹18,999₹26,00026% offUp to ₹15,000 Off on ExchangeEMI starting from ₹632/monthOffersNo Cost EMISpecial Price\n"
     ]
    }
   ],
   "source": [
    "price = container.findAll(\"div\",{\"class\":\"col col-5-12 _2o7WAb\"})\n",
    "print(price[0].text)"
   ]
  },
  {
   "cell_type": "code",
   "execution_count": 8,
   "metadata": {},
   "outputs": [
    {
     "name": "stdout",
     "output_type": "stream",
     "text": [
      "4.4 ★42,231 Ratings & 6,297 Reviews\n"
     ]
    }
   ],
   "source": [
    "ratings = container.findAll(\"div\",{\"class\":\"niH0FQ\"})\n",
    "print(ratings[0].text)"
   ]
  },
  {
   "cell_type": "code",
   "execution_count": 9,
   "metadata": {},
   "outputs": [
    {
     "data": {
      "text/plain": [
       "29"
      ]
     },
     "execution_count": 9,
     "metadata": {},
     "output_type": "execute_result"
    }
   ],
   "source": [
    "filename = \"C:\\\\Users\\\\Triloki-Gupta\\\\Desktop\\\\products.csv\"\n",
    "f = open(filename,\"w\")\n",
    "headers = \"Product_Name,Pricing,Ratings\\n\"\n",
    "f.write(headers)"
   ]
  },
  {
   "cell_type": "code",
   "execution_count": 10,
   "metadata": {},
   "outputs": [
    {
     "name": "stdout",
     "output_type": "stream",
     "text": [
      "Apple iPhone SE (Space Grey| 32 GB),Rs.18999,4.4\n",
      "\n",
      "Apple iPhone SE (Gold| 32 GB),Rs.18999,4.4\n",
      "\n",
      "Apple iPhone SE (Rose Gold| 32 GB),Rs.18999,4.4\n",
      "\n",
      "Apple iPhone SE (Silver| 32 GB),Rs.18999,4.5\n",
      "\n",
      "Apple iPhone 6 (Gold| 32 GB),Rs.25999,4.4\n",
      "\n",
      "Apple iPhone 6 (Space Grey| 32 GB),Rs.24999,4.4\n",
      "\n",
      "Apple iPhone 6s (Rose Gold| 32 GB),Rs.32999,4.4\n",
      "\n",
      "Apple iPhone 7 (Jet Black| 32 GB),Rs.46999,4.5\n",
      "\n",
      "Apple iPhone 6s (Space Grey| 32 GB),Rs.32999,4.4\n",
      "\n",
      "Apple iPhone 6s (Gold| 32 GB),Rs.32999,4.4\n",
      "\n",
      "Apple iPhone 6s Plus (Gold| 32 GB),Rs.38999,4.4\n",
      "\n",
      "Apple iPhone 6s Plus (Space Grey| 32 GB),Rs.39999,4.5\n",
      "\n",
      "Apple iPhone 7 (Rose Gold| 32 GB),Rs.46999,4.5\n",
      "\n",
      "Apple iPhone 7 Plus (Black| 128 GB),Rs.64999,4.6\n",
      "\n",
      "Apple iPhone 7 (Black| 32 GB),Rs.46999,4.5\n",
      "\n",
      "Apple iPhone 7 (Rose Gold| 128 GB),Rs.55999,4.5\n",
      "\n",
      "Apple iPhone 6s Plus (Rose Gold| 32 GB),Rs.38999,4.4\n",
      "\n",
      "Apple iPhone 7 (Silver| 32 GB),Rs.46999,4.5\n",
      "\n",
      "Apple iPhone 7 (Gold| 32 GB),Rs.46999,4.5\n",
      "\n",
      "Apple iPhone 8 Plus (Silver| 64 GB),Rs.71999,4.6\n",
      "\n",
      "Apple iPhone 8 (Silver| 64 GB),Rs.62999,4.5\n",
      "\n",
      "Apple iPhone 8 (Space Grey| 256 GB),Rs.73999,4.5\n",
      "\n",
      "Apple iPhone 6s (Silver| 32 GB),Rs.33999,4.4\n",
      "\n",
      "Apple iPhone 6s Plus (Silver| 16 GB),Rs.42990,4.3\n",
      "\n"
     ]
    }
   ],
   "source": [
    "for container in containers:\n",
    "    product_name = container.div.img[\"alt\"]\n",
    "    \n",
    "    price_container = container.findAll(\"div\",{\"class\":\"col col-5-12 _2o7WAb\"})\n",
    "    price = price_container[0].text.strip()\n",
    "    \n",
    "    rating_container = container.findAll(\"div\",{\"class\":\"niH0FQ\"})\n",
    "    rating = rating_container[0].text\n",
    "    \n",
    "    #print(\"product_name:\" + product_name)\n",
    "   # print(\"price:\" + price)\n",
    "   # print(\"rating:\" + rating)\n",
    "    \n",
    "    #string parsing\n",
    "    trim_price = ''.join(price.split(','))\n",
    "    rm_rupee = trim_price.split(\"₹\")\n",
    "    #print(rm_rupee)\n",
    "    add_rs_price = \"Rs.\" + rm_rupee[1]\n",
    "    split_price = add_rs_price.split('E')\n",
    "    final_price = split_price[0]\n",
    "\n",
    "    split_rating = rating.split(\" \")\n",
    "    final_rating = split_rating[0]\n",
    "\n",
    "    print(product_name.replace(\",\",\"|\") + \",\" +final_price + \",\" +final_rating + \"\\n\")\n",
    "    f.write(product_name.replace(\",\",\"|\") + \",\" +final_price + \",\" +final_rating + \"\\n\")\n",
    "f.close()"
   ]
  },
  {
   "cell_type": "code",
   "execution_count": null,
   "metadata": {
    "collapsed": true
   },
   "outputs": [],
   "source": []
  },
  {
   "cell_type": "code",
   "execution_count": null,
   "metadata": {
    "collapsed": true
   },
   "outputs": [],
   "source": []
  },
  {
   "cell_type": "code",
   "execution_count": null,
   "metadata": {
    "collapsed": true
   },
   "outputs": [],
   "source": []
  },
  {
   "cell_type": "code",
   "execution_count": null,
   "metadata": {
    "collapsed": true
   },
   "outputs": [],
   "source": []
  },
  {
   "cell_type": "code",
   "execution_count": null,
   "metadata": {
    "collapsed": true
   },
   "outputs": [],
   "source": []
  },
  {
   "cell_type": "code",
   "execution_count": null,
   "metadata": {
    "collapsed": true
   },
   "outputs": [],
   "source": []
  },
  {
   "cell_type": "code",
   "execution_count": null,
   "metadata": {
    "collapsed": true
   },
   "outputs": [],
   "source": []
  },
  {
   "cell_type": "code",
   "execution_count": null,
   "metadata": {
    "collapsed": true
   },
   "outputs": [],
   "source": []
  }
 ],
 "metadata": {
  "kernelspec": {
   "display_name": "Python 3",
   "language": "python",
   "name": "python3"
  },
  "language_info": {
   "codemirror_mode": {
    "name": "ipython",
    "version": 3
   },
   "file_extension": ".py",
   "mimetype": "text/x-python",
   "name": "python",
   "nbconvert_exporter": "python",
   "pygments_lexer": "ipython3",
   "version": "3.6.2"
  }
 },
 "nbformat": 4,
 "nbformat_minor": 2
}
